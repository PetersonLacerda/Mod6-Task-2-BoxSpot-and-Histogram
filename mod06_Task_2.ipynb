{
  "cells": [
    {
      "cell_type": "markdown",
      "metadata": {
        "id": "5gnUMdfj_Mtp"
      },
      "source": [
        "# Módulo 06 Tarefa 2"
      ]
    },
    {
      "cell_type": "code",
      "source": [
        "import pandas as pd\n",
        "import matplotlib.pyplot as plt\n",
        "import seaborn as sns\n",
        "%matplotlib inline\n",
        "# %matplotlib notebook"
      ],
      "metadata": {
        "id": "V7S3PRL3_udl"
      },
      "execution_count": 1,
      "outputs": []
    },
    {
      "cell_type": "code",
      "source": [
        "# importando a base de dados\n",
        "Sinasc_RO_2019 = pd.read_csv('SINASC_RO_2019 V2.csv', sep=',')\n",
        "\n",
        "df_Sinasc_RO_2019 = pd.DataFrame(Sinasc_RO_2019)"
      ],
      "metadata": {
        "id": "wqDWmGFdAG9U"
      },
      "execution_count": 10,
      "outputs": []
    },
    {
      "cell_type": "code",
      "source": [
        "df_Sinasc_RO_2019.columns"
      ],
      "metadata": {
        "colab": {
          "base_uri": "https://localhost:8080/"
        },
        "id": "9xo5drqeKgZS",
        "outputId": "7b697fa1-f257-4603-83d8-f3639917a696"
      },
      "execution_count": 13,
      "outputs": [
        {
          "output_type": "execute_result",
          "data": {
            "text/plain": [
              "Index(['ORIGEM', 'CODESTAB', 'CODMUNNASC', 'LOCNASC', 'IDADEMAE', 'ESTCIVMAE',\n",
              "       'ESCMAE', 'CODOCUPMAE', 'QTDFILVIVO', 'QTDFILMORT', 'CODMUNRES',\n",
              "       'GESTACAO', 'GRAVIDEZ', 'PARTO', 'CONSULTAS', 'DTNASC', 'HORANASC',\n",
              "       'SEXO', 'APGAR1', 'APGAR5', 'RACACOR', 'PESO', 'IDANOMAL', 'DTCADASTRO',\n",
              "       'CODANOMAL', 'NUMEROLOTE', 'VERSAOSIST', 'DTRECEBIM', 'DIFDATA',\n",
              "       'DTRECORIGA', 'NATURALMAE', 'CODMUNNATU', 'CODUFNATU', 'ESCMAE2010',\n",
              "       'SERIESCMAE', 'DTNASCMAE', 'RACACORMAE', 'QTDGESTANT', 'QTDPARTNOR',\n",
              "       'QTDPARTCES', 'IDADEPAI', 'DTULTMENST', 'SEMAGESTAC', 'TPMETESTIM',\n",
              "       'CONSPRENAT', 'MESPRENAT', 'TPAPRESENT', 'STTRABPART', 'STCESPARTO',\n",
              "       'TPNASCASSI', 'TPFUNCRESP', 'TPDOCRESP', 'DTDECLARAC', 'ESCMAEAGR1',\n",
              "       'STDNEPIDEM', 'STDNNOVA', 'CODPAISRES', 'TPROBSON', 'PARIDADE',\n",
              "       'KOTELCHUCK', 'CONTADOR', 'munResStatus', 'munResTipo', 'munResNome',\n",
              "       'munResUf', 'munResLat', 'munResLon', 'munResAlt', 'munResArea'],\n",
              "      dtype='object')"
            ]
          },
          "metadata": {},
          "execution_count": 13
        }
      ]
    },
    {
      "cell_type": "code",
      "source": [
        "#Verificando o nosso Dataframe craido\n",
        "df_Sinasc_RO_2019.head()"
      ],
      "metadata": {
        "colab": {
          "base_uri": "https://localhost:8080/",
          "height": 236
        },
        "id": "Ec9tCaBhBzNu",
        "outputId": "62d749a1-5e86-4053-b638-52f4a2010cb5"
      },
      "execution_count": 11,
      "outputs": [
        {
          "output_type": "execute_result",
          "data": {
            "text/plain": [
              "   ORIGEM   CODESTAB  CODMUNNASC  LOCNASC  IDADEMAE  ESTCIVMAE  \\\n",
              "0       1  2679477.0      110001        1        19        5.0   \n",
              "1       1  2679477.0      110001        1        29        2.0   \n",
              "2       1  2679477.0      110001        1        37        9.0   \n",
              "3       1  2516500.0      110001        1        30        5.0   \n",
              "4       1  2516500.0      110001        1        30        2.0   \n",
              "\n",
              "            ESCMAE  CODOCUPMAE  QTDFILVIVO  QTDFILMORT  ...  KOTELCHUCK  \\\n",
              "0      8 a 11 anos         NaN         0.0         0.0  ...           5   \n",
              "1      8 a 11 anos    999992.0         1.0         0.0  ...           5   \n",
              "2      8 a 11 anos    513205.0         2.0         0.0  ...           5   \n",
              "3  12 anos ou mais    231205.0         0.0         0.0  ...           4   \n",
              "4      8 a 11 anos    999992.0         1.0         0.0  ...           5   \n",
              "\n",
              "  CONTADOR munResStatus munResTipo               munResNome  munResUf  \\\n",
              "0        1        ATIVO      MUNIC    Alta Floresta D'Oeste  Rondônia   \n",
              "1        2        ATIVO      MUNIC    Alta Floresta D'Oeste  Rondônia   \n",
              "2        3        ATIVO      MUNIC    Alta Floresta D'Oeste  Rondônia   \n",
              "3        4        ATIVO      MUNIC  Alto Alegre dos Parecis  Rondônia   \n",
              "4        5        ATIVO      MUNIC    Alta Floresta D'Oeste  Rondônia   \n",
              "\n",
              "   munResLat munResLon  munResAlt  munResArea  \n",
              "0  -11.93554 -61.99982      338.0    7067.025  \n",
              "1  -11.93554 -61.99982      338.0    7067.025  \n",
              "2  -11.93554 -61.99982      338.0    7067.025  \n",
              "3  -12.13178 -61.85308      397.0    3958.273  \n",
              "4  -11.93554 -61.99982      338.0    7067.025  \n",
              "\n",
              "[5 rows x 69 columns]"
            ],
            "text/html": [
              "\n",
              "  <div id=\"df-55c252b8-547b-44b1-8cd0-567dea155d96\">\n",
              "    <div class=\"colab-df-container\">\n",
              "      <div>\n",
              "<style scoped>\n",
              "    .dataframe tbody tr th:only-of-type {\n",
              "        vertical-align: middle;\n",
              "    }\n",
              "\n",
              "    .dataframe tbody tr th {\n",
              "        vertical-align: top;\n",
              "    }\n",
              "\n",
              "    .dataframe thead th {\n",
              "        text-align: right;\n",
              "    }\n",
              "</style>\n",
              "<table border=\"1\" class=\"dataframe\">\n",
              "  <thead>\n",
              "    <tr style=\"text-align: right;\">\n",
              "      <th></th>\n",
              "      <th>ORIGEM</th>\n",
              "      <th>CODESTAB</th>\n",
              "      <th>CODMUNNASC</th>\n",
              "      <th>LOCNASC</th>\n",
              "      <th>IDADEMAE</th>\n",
              "      <th>ESTCIVMAE</th>\n",
              "      <th>ESCMAE</th>\n",
              "      <th>CODOCUPMAE</th>\n",
              "      <th>QTDFILVIVO</th>\n",
              "      <th>QTDFILMORT</th>\n",
              "      <th>...</th>\n",
              "      <th>KOTELCHUCK</th>\n",
              "      <th>CONTADOR</th>\n",
              "      <th>munResStatus</th>\n",
              "      <th>munResTipo</th>\n",
              "      <th>munResNome</th>\n",
              "      <th>munResUf</th>\n",
              "      <th>munResLat</th>\n",
              "      <th>munResLon</th>\n",
              "      <th>munResAlt</th>\n",
              "      <th>munResArea</th>\n",
              "    </tr>\n",
              "  </thead>\n",
              "  <tbody>\n",
              "    <tr>\n",
              "      <th>0</th>\n",
              "      <td>1</td>\n",
              "      <td>2679477.0</td>\n",
              "      <td>110001</td>\n",
              "      <td>1</td>\n",
              "      <td>19</td>\n",
              "      <td>5.0</td>\n",
              "      <td>8 a 11 anos</td>\n",
              "      <td>NaN</td>\n",
              "      <td>0.0</td>\n",
              "      <td>0.0</td>\n",
              "      <td>...</td>\n",
              "      <td>5</td>\n",
              "      <td>1</td>\n",
              "      <td>ATIVO</td>\n",
              "      <td>MUNIC</td>\n",
              "      <td>Alta Floresta D'Oeste</td>\n",
              "      <td>Rondônia</td>\n",
              "      <td>-11.93554</td>\n",
              "      <td>-61.99982</td>\n",
              "      <td>338.0</td>\n",
              "      <td>7067.025</td>\n",
              "    </tr>\n",
              "    <tr>\n",
              "      <th>1</th>\n",
              "      <td>1</td>\n",
              "      <td>2679477.0</td>\n",
              "      <td>110001</td>\n",
              "      <td>1</td>\n",
              "      <td>29</td>\n",
              "      <td>2.0</td>\n",
              "      <td>8 a 11 anos</td>\n",
              "      <td>999992.0</td>\n",
              "      <td>1.0</td>\n",
              "      <td>0.0</td>\n",
              "      <td>...</td>\n",
              "      <td>5</td>\n",
              "      <td>2</td>\n",
              "      <td>ATIVO</td>\n",
              "      <td>MUNIC</td>\n",
              "      <td>Alta Floresta D'Oeste</td>\n",
              "      <td>Rondônia</td>\n",
              "      <td>-11.93554</td>\n",
              "      <td>-61.99982</td>\n",
              "      <td>338.0</td>\n",
              "      <td>7067.025</td>\n",
              "    </tr>\n",
              "    <tr>\n",
              "      <th>2</th>\n",
              "      <td>1</td>\n",
              "      <td>2679477.0</td>\n",
              "      <td>110001</td>\n",
              "      <td>1</td>\n",
              "      <td>37</td>\n",
              "      <td>9.0</td>\n",
              "      <td>8 a 11 anos</td>\n",
              "      <td>513205.0</td>\n",
              "      <td>2.0</td>\n",
              "      <td>0.0</td>\n",
              "      <td>...</td>\n",
              "      <td>5</td>\n",
              "      <td>3</td>\n",
              "      <td>ATIVO</td>\n",
              "      <td>MUNIC</td>\n",
              "      <td>Alta Floresta D'Oeste</td>\n",
              "      <td>Rondônia</td>\n",
              "      <td>-11.93554</td>\n",
              "      <td>-61.99982</td>\n",
              "      <td>338.0</td>\n",
              "      <td>7067.025</td>\n",
              "    </tr>\n",
              "    <tr>\n",
              "      <th>3</th>\n",
              "      <td>1</td>\n",
              "      <td>2516500.0</td>\n",
              "      <td>110001</td>\n",
              "      <td>1</td>\n",
              "      <td>30</td>\n",
              "      <td>5.0</td>\n",
              "      <td>12 anos ou mais</td>\n",
              "      <td>231205.0</td>\n",
              "      <td>0.0</td>\n",
              "      <td>0.0</td>\n",
              "      <td>...</td>\n",
              "      <td>4</td>\n",
              "      <td>4</td>\n",
              "      <td>ATIVO</td>\n",
              "      <td>MUNIC</td>\n",
              "      <td>Alto Alegre dos Parecis</td>\n",
              "      <td>Rondônia</td>\n",
              "      <td>-12.13178</td>\n",
              "      <td>-61.85308</td>\n",
              "      <td>397.0</td>\n",
              "      <td>3958.273</td>\n",
              "    </tr>\n",
              "    <tr>\n",
              "      <th>4</th>\n",
              "      <td>1</td>\n",
              "      <td>2516500.0</td>\n",
              "      <td>110001</td>\n",
              "      <td>1</td>\n",
              "      <td>30</td>\n",
              "      <td>2.0</td>\n",
              "      <td>8 a 11 anos</td>\n",
              "      <td>999992.0</td>\n",
              "      <td>1.0</td>\n",
              "      <td>0.0</td>\n",
              "      <td>...</td>\n",
              "      <td>5</td>\n",
              "      <td>5</td>\n",
              "      <td>ATIVO</td>\n",
              "      <td>MUNIC</td>\n",
              "      <td>Alta Floresta D'Oeste</td>\n",
              "      <td>Rondônia</td>\n",
              "      <td>-11.93554</td>\n",
              "      <td>-61.99982</td>\n",
              "      <td>338.0</td>\n",
              "      <td>7067.025</td>\n",
              "    </tr>\n",
              "  </tbody>\n",
              "</table>\n",
              "<p>5 rows × 69 columns</p>\n",
              "</div>\n",
              "      <button class=\"colab-df-convert\" onclick=\"convertToInteractive('df-55c252b8-547b-44b1-8cd0-567dea155d96')\"\n",
              "              title=\"Convert this dataframe to an interactive table.\"\n",
              "              style=\"display:none;\">\n",
              "        \n",
              "  <svg xmlns=\"http://www.w3.org/2000/svg\" height=\"24px\"viewBox=\"0 0 24 24\"\n",
              "       width=\"24px\">\n",
              "    <path d=\"M0 0h24v24H0V0z\" fill=\"none\"/>\n",
              "    <path d=\"M18.56 5.44l.94 2.06.94-2.06 2.06-.94-2.06-.94-.94-2.06-.94 2.06-2.06.94zm-11 1L8.5 8.5l.94-2.06 2.06-.94-2.06-.94L8.5 2.5l-.94 2.06-2.06.94zm10 10l.94 2.06.94-2.06 2.06-.94-2.06-.94-.94-2.06-.94 2.06-2.06.94z\"/><path d=\"M17.41 7.96l-1.37-1.37c-.4-.4-.92-.59-1.43-.59-.52 0-1.04.2-1.43.59L10.3 9.45l-7.72 7.72c-.78.78-.78 2.05 0 2.83L4 21.41c.39.39.9.59 1.41.59.51 0 1.02-.2 1.41-.59l7.78-7.78 2.81-2.81c.8-.78.8-2.07 0-2.86zM5.41 20L4 18.59l7.72-7.72 1.47 1.35L5.41 20z\"/>\n",
              "  </svg>\n",
              "      </button>\n",
              "      \n",
              "  <style>\n",
              "    .colab-df-container {\n",
              "      display:flex;\n",
              "      flex-wrap:wrap;\n",
              "      gap: 12px;\n",
              "    }\n",
              "\n",
              "    .colab-df-convert {\n",
              "      background-color: #E8F0FE;\n",
              "      border: none;\n",
              "      border-radius: 50%;\n",
              "      cursor: pointer;\n",
              "      display: none;\n",
              "      fill: #1967D2;\n",
              "      height: 32px;\n",
              "      padding: 0 0 0 0;\n",
              "      width: 32px;\n",
              "    }\n",
              "\n",
              "    .colab-df-convert:hover {\n",
              "      background-color: #E2EBFA;\n",
              "      box-shadow: 0px 1px 2px rgba(60, 64, 67, 0.3), 0px 1px 3px 1px rgba(60, 64, 67, 0.15);\n",
              "      fill: #174EA6;\n",
              "    }\n",
              "\n",
              "    [theme=dark] .colab-df-convert {\n",
              "      background-color: #3B4455;\n",
              "      fill: #D2E3FC;\n",
              "    }\n",
              "\n",
              "    [theme=dark] .colab-df-convert:hover {\n",
              "      background-color: #434B5C;\n",
              "      box-shadow: 0px 1px 3px 1px rgba(0, 0, 0, 0.15);\n",
              "      filter: drop-shadow(0px 1px 2px rgba(0, 0, 0, 0.3));\n",
              "      fill: #FFFFFF;\n",
              "    }\n",
              "  </style>\n",
              "\n",
              "      <script>\n",
              "        const buttonEl =\n",
              "          document.querySelector('#df-55c252b8-547b-44b1-8cd0-567dea155d96 button.colab-df-convert');\n",
              "        buttonEl.style.display =\n",
              "          google.colab.kernel.accessAllowed ? 'block' : 'none';\n",
              "\n",
              "        async function convertToInteractive(key) {\n",
              "          const element = document.querySelector('#df-55c252b8-547b-44b1-8cd0-567dea155d96');\n",
              "          const dataTable =\n",
              "            await google.colab.kernel.invokeFunction('convertToInteractive',\n",
              "                                                     [key], {});\n",
              "          if (!dataTable) return;\n",
              "\n",
              "          const docLinkHtml = 'Like what you see? Visit the ' +\n",
              "            '<a target=\"_blank\" href=https://colab.research.google.com/notebooks/data_table.ipynb>data table notebook</a>'\n",
              "            + ' to learn more about interactive tables.';\n",
              "          element.innerHTML = '';\n",
              "          dataTable['output_type'] = 'display_data';\n",
              "          await google.colab.output.renderOutput(dataTable, element);\n",
              "          const docLink = document.createElement('div');\n",
              "          docLink.innerHTML = docLinkHtml;\n",
              "          element.appendChild(docLink);\n",
              "        }\n",
              "      </script>\n",
              "    </div>\n",
              "  </div>\n",
              "  "
            ]
          },
          "metadata": {},
          "execution_count": 11
        }
      ]
    },
    {
      "cell_type": "markdown",
      "metadata": {
        "id": "KsOqTu_7_Mt1"
      },
      "source": [
        "####  1) Na base do SINASC do DataSUS, faça um boxplot da idade da mãe."
      ]
    },
    {
      "cell_type": "code",
      "execution_count": 12,
      "metadata": {
        "colab": {
          "base_uri": "https://localhost:8080/",
          "height": 282
        },
        "id": "AZC_hZxB_Mt3",
        "outputId": "4842d3a9-50b7-4916-cf8e-43a6d756898f"
      },
      "outputs": [
        {
          "output_type": "execute_result",
          "data": {
            "text/plain": [
              "<matplotlib.axes._subplots.AxesSubplot at 0x7f77ed4a2390>"
            ]
          },
          "metadata": {},
          "execution_count": 12
        },
        {
          "output_type": "display_data",
          "data": {
            "text/plain": [
              "<Figure size 432x288 with 1 Axes>"
            ],
            "image/png": "[encoded data removed]"
          },
          "metadata": {
            "needs_background": "light"
          }
        }
      ],
      "source": [
        "df_Sinasc_RO_2019[['IDADEMAE']].boxplot()"
      ]
    },
    {
      "cell_type": "markdown",
      "metadata": {
        "id": "5OoyjO-m_Mt3"
      },
      "source": [
        "####  2) Faça um boxplot do peso do bebê"
      ]
    },
    {
      "cell_type": "code",
      "execution_count": 14,
      "metadata": {
        "colab": {
          "base_uri": "https://localhost:8080/",
          "height": 282
        },
        "id": "nJFpHKDz_Mt4",
        "outputId": "24a18111-8129-4194-d1f8-7767da4ebf5a"
      },
      "outputs": [
        {
          "output_type": "execute_result",
          "data": {
            "text/plain": [
              "<matplotlib.axes._subplots.AxesSubplot at 0x7f77ecf72cd0>"
            ]
          },
          "metadata": {},
          "execution_count": 14
        },
        {
          "output_type": "display_data",
          "data": {
            "text/plain": [
              "<Figure size 432x288 with 1 Axes>"
            ],
            "image/png": "[encoded data removed]"
          },
          "metadata": {
            "needs_background": "light"
          }
        }
      ],
      "source": [
        "df_Sinasc_RO_2019[['PESO']].boxplot()"
      ]
    },
    {
      "cell_type": "markdown",
      "metadata": {
        "id": "-GRSZ0vJ_Mt4"
      },
      "source": [
        "####  3) Faça um histograma da idade da mãe"
      ]
    },
    {
      "cell_type": "code",
      "source": [
        "sns.displot(data = df_Sinasc_RO_2019['IDADEMAE']\n",
        "            ,alpha = .25\n",
        "            ,bins = 30\n",
        "            ,element = 'step'\n",
        "            ,kde = True\n",
        "            )"
      ],
      "metadata": {
        "colab": {
          "base_uri": "https://localhost:8080/",
          "height": 386
        },
        "id": "mve-YSunW_Rb",
        "outputId": "13c7396c-5508-4f58-aad2-1848164e8404"
      },
      "execution_count": 22,
      "outputs": [
        {
          "output_type": "execute_result",
          "data": {
            "text/plain": [
              "<seaborn.axisgrid.FacetGrid at 0x7f77e8283f90>"
            ]
          },
          "metadata": {},
          "execution_count": 22
        },
        {
          "output_type": "display_data",
          "data": {
            "text/plain": [
              "<Figure size 360x360 with 1 Axes>"
            ],
            "image/png": "[encoded data removed]"
          },
          "metadata": {
            "needs_background": "light"
          }
        }
      ]
    },
    {
      "cell_type": "markdown",
      "metadata": {
        "id": "kAO6bEcE_Mt5"
      },
      "source": [
        "#### 4) Faça um histograma do peso do bebê"
      ]
    },
    {
      "cell_type": "code",
      "execution_count": 23,
      "metadata": {
        "colab": {
          "base_uri": "https://localhost:8080/",
          "height": 386
        },
        "id": "wmxSM39s_Mt5",
        "outputId": "df0266ce-da2b-486d-a262-054993fa3355"
      },
      "outputs": [
        {
          "output_type": "execute_result",
          "data": {
            "text/plain": [
              "<seaborn.axisgrid.FacetGrid at 0x7f77e821b850>"
            ]
          },
          "metadata": {},
          "execution_count": 23
        },
        {
          "output_type": "display_data",
          "data": {
            "text/plain": [
              "<Figure size 360x360 with 1 Axes>"
            ],
            "image/png": "[encoded data removed]"
          },
          "metadata": {
            "needs_background": "light"
          }
        }
      ],
      "source": [
        "sns.displot(data = df_Sinasc_RO_2019['PESO']\n",
        "            ,alpha = .25\n",
        "            ,bins = 10\n",
        "            ,element = 'step'\n",
        "            ,kde = True\n",
        "            )"
      ]
    }
  ],
  "metadata": {
    "kernelspec": {
      "display_name": "Python 3",
      "language": "python",
      "name": "python3"
    },
    "language_info": {
      "codemirror_mode": {
        "name": "ipython",
        "version": 3
      },
      "file_extension": ".py",
      "mimetype": "text/x-python",
      "name": "python",
      "nbconvert_exporter": "python",
      "pygments_lexer": "ipython3",
      "version": "3.8.5"
    },
    "colab": {
      "provenance": [],
      "collapsed_sections": []
    }
  },
  "nbformat": 4,
  "nbformat_minor": 0
}